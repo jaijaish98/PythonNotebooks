{
 "cells": [
  {
   "cell_type": "code",
   "execution_count": 1,
   "id": "e109ae37",
   "metadata": {},
   "outputs": [
    {
     "data": {
      "text/plain": [
       "'14:37:14'"
      ]
     },
     "metadata": {},
     "output_type": "display_data"
    },
    {
     "ename": "KeyboardInterrupt",
     "evalue": "",
     "output_type": "error",
     "traceback": [
      "\u001b[0;31m---------------------------------------------------------------------------\u001b[0m",
      "\u001b[0;31mKeyboardInterrupt\u001b[0m                         Traceback (most recent call last)",
      "Cell \u001b[0;32mIn[1], line 17\u001b[0m\n\u001b[1;32m     14\u001b[0m         time\u001b[38;5;241m.\u001b[39msleep(\u001b[38;5;241m1\u001b[39m)\n\u001b[1;32m     16\u001b[0m \u001b[38;5;66;03m# Run the digital clock\u001b[39;00m\n\u001b[0;32m---> 17\u001b[0m digital_clock()\n",
      "Cell \u001b[0;32mIn[1], line 14\u001b[0m, in \u001b[0;36mdigital_clock\u001b[0;34m()\u001b[0m\n\u001b[1;32m     11\u001b[0m display(current_time)\n\u001b[1;32m     13\u001b[0m \u001b[38;5;66;03m# Wait for one second before updating the time\u001b[39;00m\n\u001b[0;32m---> 14\u001b[0m time\u001b[38;5;241m.\u001b[39msleep(\u001b[38;5;241m1\u001b[39m)\n",
      "\u001b[0;31mKeyboardInterrupt\u001b[0m: "
     ]
    }
   ],
   "source": [
    "import time\n",
    "from IPython.display import display, clear_output\n",
    "\n",
    "def digital_clock():\n",
    "    while True:\n",
    "        # Get the current time\n",
    "        current_time = time.strftime(\"%H:%M:%S\")\n",
    "        \n",
    "        # Display the current time\n",
    "        clear_output(wait=True)\n",
    "        display(current_time)\n",
    "        \n",
    "        # Wait for one second before updating the time\n",
    "        time.sleep(1)\n",
    "\n",
    "# Run the digital clock\n",
    "digital_clock()\n"
   ]
  },
  {
   "cell_type": "code",
   "execution_count": null,
   "id": "7e2ff4ee",
   "metadata": {},
   "outputs": [],
   "source": []
  }
 ],
 "metadata": {
  "kernelspec": {
   "display_name": "Python 3 (ipykernel)",
   "language": "python",
   "name": "python3"
  },
  "language_info": {
   "codemirror_mode": {
    "name": "ipython",
    "version": 3
   },
   "file_extension": ".py",
   "mimetype": "text/x-python",
   "name": "python",
   "nbconvert_exporter": "python",
   "pygments_lexer": "ipython3",
   "version": "3.11.3"
  }
 },
 "nbformat": 4,
 "nbformat_minor": 5
}
